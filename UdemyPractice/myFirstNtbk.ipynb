{
 "cells": [
  {
   "cell_type": "code",
   "execution_count": 1,
   "metadata": {},
   "outputs": [
    {
     "name": "stdout",
     "output_type": "stream",
     "text": [
      "hello\n"
     ]
    }
   ],
   "source": [
    "print('hello')"
   ]
  },
  {
   "cell_type": "code",
   "execution_count": 2,
   "metadata": {},
   "outputs": [
    {
     "name": "stdout",
     "output_type": "stream",
     "text": [
      "new\n"
     ]
    }
   ],
   "source": [
    "print('new')"
   ]
  },
  {
   "cell_type": "markdown",
   "metadata": {},
   "source": [
    "Writing notes such as comments"
   ]
  },
  {
   "cell_type": "code",
   "execution_count": 3,
   "metadata": {},
   "outputs": [
    {
     "name": "stdout",
     "output_type": "stream",
     "text": [
      "Notebook test\n"
     ]
    }
   ],
   "source": [
    "print('Notebook test')"
   ]
  },
  {
   "cell_type": "code",
   "execution_count": 1,
   "metadata": {},
   "outputs": [
    {
     "name": "stdout",
     "output_type": "stream",
     "text": [
      "1.0\n"
     ]
    }
   ],
   "source": [
    "a = 3\n",
    "b = (a-1)/2\n",
    "print(b)"
   ]
  },
  {
   "cell_type": "code",
   "execution_count": 2,
   "metadata": {},
   "outputs": [
    {
     "data": {
      "text/plain": [
       "3"
      ]
     },
     "execution_count": 2,
     "metadata": {},
     "output_type": "execute_result"
    }
   ],
   "source": [
    "len('abc')"
   ]
  },
  {
   "cell_type": "code",
   "execution_count": 3,
   "metadata": {},
   "outputs": [],
   "source": [
    "strA = 'abc'"
   ]
  },
  {
   "cell_type": "code",
   "execution_count": 4,
   "metadata": {},
   "outputs": [
    {
     "name": "stdout",
     "output_type": "stream",
     "text": [
      "a\n"
     ]
    }
   ],
   "source": [
    "print(strA[0])\n"
   ]
  },
  {
   "cell_type": "code",
   "execution_count": 5,
   "metadata": {},
   "outputs": [
    {
     "name": "stdout",
     "output_type": "stream",
     "text": [
      "c\n"
     ]
    }
   ],
   "source": [
    "print(strA[2])"
   ]
  },
  {
   "cell_type": "code",
   "execution_count": 6,
   "metadata": {},
   "outputs": [
    {
     "name": "stdout",
     "output_type": "stream",
     "text": [
      "b\n"
     ]
    }
   ],
   "source": [
    "print(strA[1])"
   ]
  },
  {
   "cell_type": "code",
   "execution_count": 7,
   "metadata": {},
   "outputs": [
    {
     "ename": "NameError",
     "evalue": "name 'strManip' is not defined",
     "output_type": "error",
     "traceback": [
      "\u001b[0;31m---------------------------------------------------------------------------\u001b[0m",
      "\u001b[0;31mNameError\u001b[0m                                 Traceback (most recent call last)",
      "\u001b[0;32m<ipython-input-7-032321f85c54>\u001b[0m in \u001b[0;36m<module>\u001b[0;34m\u001b[0m\n\u001b[1;32m     48\u001b[0m \u001b[0;34m\u001b[0m\u001b[0m\n\u001b[1;32m     49\u001b[0m \u001b[0;32mif\u001b[0m \u001b[0m__name__\u001b[0m \u001b[0;34m==\u001b[0m \u001b[0;34m\"__main__\"\u001b[0m\u001b[0;34m:\u001b[0m\u001b[0;34m\u001b[0m\u001b[0;34m\u001b[0m\u001b[0m\n\u001b[0;32m---> 50\u001b[0;31m     \u001b[0mmain\u001b[0m\u001b[0;34m(\u001b[0m\u001b[0;34m)\u001b[0m\u001b[0;34m\u001b[0m\u001b[0;34m\u001b[0m\u001b[0m\n\u001b[0m",
      "\u001b[0;32m<ipython-input-7-032321f85c54>\u001b[0m in \u001b[0;36mmain\u001b[0;34m()\u001b[0m\n\u001b[1;32m     43\u001b[0m     \u001b[0mfinalResult\u001b[0m \u001b[0;34m=\u001b[0m \u001b[0mstrSwapper\u001b[0m\u001b[0;34m(\u001b[0m\u001b[0;34m'abc'\u001b[0m\u001b[0;34m)\u001b[0m\u001b[0;34m\u001b[0m\u001b[0;34m\u001b[0m\u001b[0m\n\u001b[1;32m     44\u001b[0m \u001b[0;34m\u001b[0m\u001b[0m\n\u001b[0;32m---> 45\u001b[0;31m     \u001b[0mprint\u001b[0m\u001b[0;34m(\u001b[0m\u001b[0mstrManip\u001b[0m\u001b[0;34m)\u001b[0m\u001b[0;34m\u001b[0m\u001b[0;34m\u001b[0m\u001b[0m\n\u001b[0m\u001b[1;32m     46\u001b[0m     \u001b[0mprint\u001b[0m\u001b[0;34m(\u001b[0m\u001b[0mfinalResult\u001b[0m\u001b[0;34m)\u001b[0m\u001b[0;34m\u001b[0m\u001b[0;34m\u001b[0m\u001b[0m\n\u001b[1;32m     47\u001b[0m \u001b[0;34m\u001b[0m\u001b[0m\n",
      "\u001b[0;31mNameError\u001b[0m: name 'strManip' is not defined"
     ]
    }
   ],
   "source": [
    "def strSwapper(toBeChanged): \n",
    "    a = len(toBeChanged)\n",
    "    finalStr = []\n",
    "    c = a % 2\n",
    "    tempFront = []\n",
    "    tempBack = []\n",
    "    tempCenter = []\n",
    "    oddMid = int((a-1)/2)\n",
    "    evenMid = int(a/2)\n",
    "    #pdb.set_trace()\n",
    "\n",
    "    if c > 0:\n",
    "\n",
    "        tempCenter = toBeChanged[int((a-1)/2)]\n",
    "\n",
    "        finalStr = tempCenter\n",
    "        #pdb.set_trace()\n",
    "\n",
    "        for i in range(0,int((a-1)/2)):\n",
    "            if i > 0:\n",
    "                tempBack = toBeChanged[oddMid - (i+1)]\n",
    "                tempFront = toBeChanged[oddMid + (i+1)]\n",
    "                #pdb.set_trace()\n",
    "                finalStr = tempFront + finalStr + tempBack\n",
    "\n",
    "    else: \n",
    "\n",
    "        for i in range(0,a/2):\n",
    "            tempBack = toBeChanged[evenMid - (i+1)]\n",
    "            tempFront = toBeChanged[evenMid + (i+1)]\n",
    "            finalStr = tempFront + finalStr + tempBack\n",
    "    \n",
    "    #finalStr.join()\n",
    "    return finalStr\n",
    "\n",
    "\n",
    "\n",
    "\n",
    "def main():\n",
    "\n",
    "    #strManip = str(input('Enter string to be reversed:'))\n",
    "\n",
    "    finalResult = strSwapper('abc')\n",
    "\n",
    "    #print(strManip)\n",
    "    print(finalResult)\n",
    "\n",
    "\n",
    "if __name__ == \"__main__\":\n",
    "    main()"
   ]
  },
  {
   "cell_type": "code",
   "execution_count": 8,
   "metadata": {},
   "outputs": [
    {
     "name": "stdout",
     "output_type": "stream",
     "text": [
      "b\n"
     ]
    }
   ],
   "source": [
    "def strSwapper(toBeChanged): \n",
    "    a = len(toBeChanged)\n",
    "    finalStr = []\n",
    "    c = a % 2\n",
    "    tempFront = []\n",
    "    tempBack = []\n",
    "    tempCenter = []\n",
    "    oddMid = int((a-1)/2)\n",
    "    evenMid = int(a/2)\n",
    "    #pdb.set_trace()\n",
    "\n",
    "    if c > 0:\n",
    "\n",
    "        tempCenter = toBeChanged[int((a-1)/2)]\n",
    "\n",
    "        finalStr = tempCenter\n",
    "        #pdb.set_trace()\n",
    "\n",
    "        for i in range(0,int((a-1)/2)):\n",
    "            if i > 0:\n",
    "                tempBack = toBeChanged[oddMid - (i+1)]\n",
    "                tempFront = toBeChanged[oddMid + (i+1)]\n",
    "                #pdb.set_trace()\n",
    "                finalStr = tempFront + finalStr + tempBack\n",
    "\n",
    "    else: \n",
    "\n",
    "        for i in range(0,a/2):\n",
    "            tempBack = toBeChanged[evenMid - (i+1)]\n",
    "            tempFront = toBeChanged[evenMid + (i+1)]\n",
    "            finalStr = tempFront + finalStr + tempBack\n",
    "    \n",
    "    #finalStr.join()\n",
    "    return finalStr\n",
    "\n",
    "\n",
    "\n",
    "\n",
    "def main():\n",
    "\n",
    "    #strManip = str(input('Enter string to be reversed:'))\n",
    "\n",
    "    finalResult = strSwapper('abc')\n",
    "\n",
    "    #print(strManip)\n",
    "    print(finalResult)\n",
    "\n",
    "\n",
    "if __name__ == \"__main__\":\n",
    "    main()"
   ]
  },
  {
   "cell_type": "code",
   "execution_count": null,
   "metadata": {},
   "outputs": [],
   "source": []
  }
 ],
 "metadata": {
  "kernelspec": {
   "display_name": "Python 3",
   "language": "python",
   "name": "python3"
  },
  "language_info": {
   "codemirror_mode": {
    "name": "ipython",
    "version": 3
   },
   "file_extension": ".py",
   "mimetype": "text/x-python",
   "name": "python",
   "nbconvert_exporter": "python",
   "pygments_lexer": "ipython3",
   "version": "3.7.3"
  }
 },
 "nbformat": 4,
 "nbformat_minor": 2
}
