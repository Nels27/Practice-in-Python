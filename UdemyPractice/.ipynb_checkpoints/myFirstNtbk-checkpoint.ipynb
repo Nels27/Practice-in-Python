{
 "cells": [
  {
   "cell_type": "code",
   "execution_count": 1,
   "metadata": {},
   "outputs": [
    {
     "name": "stdout",
     "output_type": "stream",
     "text": [
      "hello\n"
     ]
    }
   ],
   "source": [
    "print('hello')"
   ]
  },
  {
   "cell_type": "code",
   "execution_count": 2,
   "metadata": {},
   "outputs": [
    {
     "name": "stdout",
     "output_type": "stream",
     "text": [
      "new\n"
     ]
    }
   ],
   "source": [
    "print('new')"
   ]
  },
  {
   "cell_type": "markdown",
   "metadata": {},
   "source": [
    "Writing notes such as comments"
   ]
  },
  {
   "cell_type": "code",
   "execution_count": 3,
   "metadata": {},
   "outputs": [
    {
     "name": "stdout",
     "output_type": "stream",
     "text": [
      "Notebook test\n"
     ]
    }
   ],
   "source": [
    "print('Notebook test')"
   ]
  },
  {
   "cell_type": "code",
   "execution_count": 1,
   "metadata": {},
   "outputs": [
    {
     "name": "stdout",
     "output_type": "stream",
     "text": [
      "1.0\n"
     ]
    }
   ],
   "source": [
    "a = 3\n",
    "b = (a-1)/2\n",
    "print(b)"
   ]
  },
  {
   "cell_type": "code",
   "execution_count": 2,
   "metadata": {},
   "outputs": [
    {
     "data": {
      "text/plain": [
       "3"
      ]
     },
     "execution_count": 2,
     "metadata": {},
     "output_type": "execute_result"
    }
   ],
   "source": [
    "len('abc')"
   ]
  },
  {
   "cell_type": "code",
   "execution_count": 3,
   "metadata": {},
   "outputs": [],
   "source": [
    "strA = 'abc'"
   ]
  },
  {
   "cell_type": "code",
   "execution_count": 4,
   "metadata": {},
   "outputs": [
    {
     "name": "stdout",
     "output_type": "stream",
     "text": [
      "a\n"
     ]
    }
   ],
   "source": [
    "print(strA[0])\n"
   ]
  },
  {
   "cell_type": "code",
   "execution_count": 5,
   "metadata": {},
   "outputs": [
    {
     "name": "stdout",
     "output_type": "stream",
     "text": [
      "c\n"
     ]
    }
   ],
   "source": [
    "print(strA[2])"
   ]
  },
  {
   "cell_type": "code",
   "execution_count": 6,
   "metadata": {},
   "outputs": [
    {
     "name": "stdout",
     "output_type": "stream",
     "text": [
      "b\n"
     ]
    }
   ],
   "source": [
    "print(strA[1])"
   ]
  },
  {
   "cell_type": "code",
   "execution_count": null,
   "metadata": {},
   "outputs": [],
   "source": [
    "def strSwapper(toBeChanged): \n",
    "    a = len(toBeChanged)\n",
    "    finalStr = []\n",
    "    c = a % 2\n",
    "    tempFront = []\n",
    "    tempBack = []\n",
    "    tempCenter = []\n",
    "    oddMid = int((a-1)/2)\n",
    "    evenMid = int(a/2)\n",
    "    #pdb.set_trace()\n",
    "\n",
    "    if c > 0:\n",
    "\n",
    "        tempCenter = toBeChanged[int((a-1)/2)]\n",
    "\n",
    "        finalStr = tempCenter\n",
    "        #pdb.set_trace()\n",
    "\n",
    "        for i in range(0,int((a-1)/2)):\n",
    "            if i > 0:\n",
    "                tempBack = toBeChanged[oddMid - (i+1)]\n",
    "                tempFront = toBeChanged[oddMid + (i+1)]\n",
    "                #pdb.set_trace()\n",
    "                finalStr = tempFront + finalStr + tempBack\n",
    "\n",
    "    else: \n",
    "\n",
    "        for i in range(0,a/2):\n",
    "            tempBack = toBeChanged[evenMid - (i+1)]\n",
    "            tempFront = toBeChanged[evenMid + (i+1)]\n",
    "            finalStr = tempFront + finalStr + tempBack\n",
    "    \n",
    "    #finalStr.join()\n",
    "    return finalStr\n",
    "\n",
    "\n",
    "\n",
    "\n",
    "def main():\n",
    "\n",
    "    #strManip = str(input('Enter string to be reversed:'))\n",
    "\n",
    "    finalResult = strSwapper('abc')\n",
    "\n",
    "    print(strManip)\n",
    "    print(finalResult)\n",
    "\n",
    "\n",
    "if __name__ == \"__main__\":\n",
    "    main()"
   ]
  }
 ],
 "metadata": {
  "kernelspec": {
   "display_name": "Python 3",
   "language": "python",
   "name": "python3"
  },
  "language_info": {
   "codemirror_mode": {
    "name": "ipython",
    "version": 3
   },
   "file_extension": ".py",
   "mimetype": "text/x-python",
   "name": "python",
   "nbconvert_exporter": "python",
   "pygments_lexer": "ipython3",
   "version": "3.7.3"
  }
 },
 "nbformat": 4,
 "nbformat_minor": 2
}
